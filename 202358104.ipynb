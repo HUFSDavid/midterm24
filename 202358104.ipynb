{
  "nbformat": 4,
  "nbformat_minor": 0,
  "metadata": {
    "colab": {
      "provenance": [],
      "authorship_tag": "ABX9TyNPSXrEKPfb2wnT9KXcQ9z1",
      "include_colab_link": true
    },
    "kernelspec": {
      "name": "python3",
      "display_name": "Python 3"
    },
    "language_info": {
      "name": "python"
    }
  },
  "cells": [
    {
      "cell_type": "markdown",
      "metadata": {
        "id": "view-in-github",
        "colab_type": "text"
      },
      "source": [
        "<a href=\"https://colab.research.google.com/github/HUFSDavid/midterm24/blob/main/202358104.ipynb\" target=\"_parent\"><img src=\"https://colab.research.google.com/assets/colab-badge.svg\" alt=\"Open In Colab\"/></a>"
      ]
    },
    {
      "cell_type": "markdown",
      "source": [
        "# 🌀Midterm 2024: your full name (Student ID)\" as a Heading one.\n",
        "\n"
      ],
      "metadata": {
        "id": "CMVwd69UtF8-"
      }
    },
    {
      "cell_type": "markdown",
      "source": [
        "## Index question"
      ],
      "metadata": {
        "id": "Vr-P0cySvxbZ"
      }
    },
    {
      "cell_type": "markdown",
      "source": [],
      "metadata": {
        "id": "ioAa160WvE75"
      }
    },
    {
      "cell_type": "code",
      "execution_count": 1,
      "metadata": {
        "colab": {
          "base_uri": "https://localhost:8080/",
          "height": 0
        },
        "id": "Yxigo_RVskHf",
        "outputId": "c75451b4-acc0-43cc-9aa6-55a68ed18272"
      },
      "outputs": [
        {
          "output_type": "stream",
          "name": "stdout",
          "text": [
            "The ordinal expression: Third\n"
          ]
        }
      ],
      "source": [
        "# Dropdown\n",
        "\n",
        "cardinal_number = \"2\" #@param = [\"1\",\"2\",\"3\",\"4\"]\n",
        "\n",
        "# Add one line of code below\n",
        "cardinal_number = int(cardinal_number)\n",
        "\n",
        "# Ordinal expression as a list\n",
        "\n",
        "words = [\"First\", \"Second\", \"Third\",\"Fourth\"]\n",
        "\n",
        "print(\"The ordinal expression:\", words[cardinal_number])"
      ]
    },
    {
      "cell_type": "code",
      "source": [
        "# Dropdown\n",
        "\n",
        "cardinal_number = \"2\" #@param = [\"1\",\"2\",\"3\",\"4\"]\n",
        "\n",
        "# Add one line of code below\n",
        "cardinal_number = int(cardinal_number) -1   #Index starts from 0!\n",
        "\n",
        "# Ordinal expression as a list\n",
        "\n",
        "words = [\"First\", \"Second\", \"Third\",\"Fourth\"]\n",
        "\n",
        "print(\"The ordinal expression:\", words[cardinal_number])"
      ],
      "metadata": {
        "colab": {
          "base_uri": "https://localhost:8080/",
          "height": 0
        },
        "id": "iZ30hI3JwWIY",
        "outputId": "3804bf7b-3afc-4260-b30b-ef57c36c0ecb"
      },
      "execution_count": 4,
      "outputs": [
        {
          "output_type": "stream",
          "name": "stdout",
          "text": [
            "The ordinal expression: Second\n"
          ]
        }
      ]
    },
    {
      "cell_type": "markdown",
      "source": [
        "## variable question"
      ],
      "metadata": {
        "id": "yjHjiLxBx_Xr"
      }
    },
    {
      "cell_type": "code",
      "source": [
        "#'Mary, 1998, Ohio; and John, 1999, Boston.'\n",
        "\n",
        "x = input(\"name: \")\n",
        "y = input(\"born in: \")\n",
        "z = input(\"hometown: \")\n",
        "\n",
        "\n",
        "print(f\"Hello, my name is {x}. I was born in {y}, and I'm from {z}. Nice to meet you.\")\n"
      ],
      "metadata": {
        "colab": {
          "base_uri": "https://localhost:8080/",
          "height": 0
        },
        "id": "vhFM-jOuzN1V",
        "outputId": "daa7030a-3974-47ab-92dd-0831dc10ca72"
      },
      "execution_count": 12,
      "outputs": [
        {
          "output_type": "stream",
          "name": "stdout",
          "text": [
            "name: Mary\n",
            "born in: 1998\n",
            "hometown: Ohio\n",
            "Hello, my name is Mary. I was born in 1998, and I'm from Ohio. Nice to meet you.\n"
          ]
        }
      ]
    },
    {
      "cell_type": "markdown",
      "source": [
        "## Name question"
      ],
      "metadata": {
        "id": "9XH3v8p01kUl"
      }
    },
    {
      "cell_type": "code",
      "source": [
        "#Name question\n",
        "x = \"My name is \"\n",
        "y = 'Taehwi.'\n",
        "print (x+y)"
      ],
      "metadata": {
        "colab": {
          "base_uri": "https://localhost:8080/",
          "height": 0
        },
        "id": "VVzSl3ut1nj6",
        "outputId": "016541c6-d17a-440f-fd15-596f05292fa5"
      },
      "execution_count": 19,
      "outputs": [
        {
          "output_type": "stream",
          "name": "stdout",
          "text": [
            "My name is Taehwi.\n"
          ]
        }
      ]
    },
    {
      "cell_type": "markdown",
      "source": [
        "## dictionary question"
      ],
      "metadata": {
        "id": "liAD5PHt2yQT"
      }
    },
    {
      "cell_type": "code",
      "source": [
        "grades = {\"Jack\": 30, \"John\": 40, \"Bob\": 50}\n",
        "print(grades[\"Bob\"])\n"
      ],
      "metadata": {
        "colab": {
          "base_uri": "https://localhost:8080/",
          "height": 0
        },
        "id": "Nd_GpTGa20l5",
        "outputId": "a7a8e4a1-42ba-496e-e2ad-8eb1305edbf9"
      },
      "execution_count": 21,
      "outputs": [
        {
          "output_type": "stream",
          "name": "stdout",
          "text": [
            "50\n"
          ]
        }
      ]
    },
    {
      "cell_type": "markdown",
      "source": [
        "## Function question"
      ],
      "metadata": {
        "id": "ze4pLZiq4daE"
      }
    },
    {
      "cell_type": "code",
      "source": [
        "def divide(x, y):\n",
        "    return x / y\n",
        "\n",
        "result = divide(20, 4)\n",
        "print(\"The result of division is:\", result)\n"
      ],
      "metadata": {
        "colab": {
          "base_uri": "https://localhost:8080/",
          "height": 0
        },
        "id": "7uf300b56aMb",
        "outputId": "26c25e02-f31f-4069-dff1-45fbbb1eab0c"
      },
      "execution_count": 30,
      "outputs": [
        {
          "output_type": "stream",
          "name": "stdout",
          "text": [
            "The result of division is: 5.0\n"
          ]
        }
      ]
    },
    {
      "cell_type": "markdown",
      "source": [
        "## GTTs question"
      ],
      "metadata": {
        "id": "1pvqn5FO6rvD"
      }
    },
    {
      "cell_type": "code",
      "source": [],
      "metadata": {
        "id": "aMX-wZ6H6urR"
      },
      "execution_count": null,
      "outputs": []
    },
    {
      "cell_type": "markdown",
      "source": [],
      "metadata": {
        "id": "tB_GSVWP7RQL"
      }
    },
    {
      "cell_type": "markdown",
      "source": [],
      "metadata": {
        "id": "HaW1cVBF6CXI"
      }
    }
  ]
}