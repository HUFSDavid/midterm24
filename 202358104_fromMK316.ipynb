{
  "nbformat": 4,
  "nbformat_minor": 0,
  "metadata": {
    "colab": {
      "provenance": [],
      "include_colab_link": true
    },
    "kernelspec": {
      "name": "python3",
      "display_name": "Python 3"
    },
    "language_info": {
      "name": "python"
    }
  },
  "cells": [
    {
      "cell_type": "markdown",
      "metadata": {
        "id": "view-in-github",
        "colab_type": "text"
      },
      "source": [
        "<a href=\"https://colab.research.google.com/github/HUFSDavid/midterm24/blob/main/202358104_fromMK316.ipynb\" target=\"_parent\"><img src=\"https://colab.research.google.com/assets/colab-badge.svg\" alt=\"Open In Colab\"/></a>"
      ]
    },
    {
      "cell_type": "markdown",
      "source": [
        "# 🌀Midterm 2024: your full name (Student ID)\" as a Heading one.\n",
        "\n",
        "😍Comments are given 1AM, 0501\n"
      ],
      "metadata": {
        "id": "CMVwd69UtF8-"
      }
    },
    {
      "cell_type": "markdown",
      "source": [
        "## Index question"
      ],
      "metadata": {
        "id": "Vr-P0cySvxbZ"
      }
    },
    {
      "cell_type": "markdown",
      "source": [
        "## 😍 Good job!!"
      ],
      "metadata": {
        "id": "W9VgJ-PowCzM"
      }
    },
    {
      "cell_type": "code",
      "source": [
        "# Dropdown\n",
        "\n",
        "cardinal_number = \"2\" #@param = [\"1\",\"2\",\"3\",\"4\"]\n",
        "\n",
        "# Add one line of code below\n",
        "cardinal_number = int(cardinal_number) -1   #Index starts from 0!\n",
        "\n",
        "# Ordinal expression as a list\n",
        "\n",
        "words = [\"First\", \"Second\", \"Third\",\"Fourth\"]\n",
        "\n",
        "print(\"The ordinal expression:\", words[cardinal_number])"
      ],
      "metadata": {
        "colab": {
          "base_uri": "https://localhost:8080/"
        },
        "id": "iZ30hI3JwWIY",
        "outputId": "1a113053-3367-433a-91d4-158ebf6a12a8",
        "cellView": "form"
      },
      "execution_count": 2,
      "outputs": [
        {
          "output_type": "stream",
          "name": "stdout",
          "text": [
            "The ordinal expression: Second\n"
          ]
        }
      ]
    },
    {
      "cell_type": "markdown",
      "source": [
        "## variable question (😍Good job)"
      ],
      "metadata": {
        "id": "yjHjiLxBx_Xr"
      }
    },
    {
      "cell_type": "code",
      "source": [
        "#'Mary, 1998, Ohio; and John, 1999, Boston.'\n",
        "\n",
        "x = input(\"name: \")\n",
        "y = input(\"born in: \")\n",
        "z = input(\"hometown: \")\n",
        "\n",
        "\n",
        "print(f\"Hello, my name is {x}. I was born in {y}, and I'm from {z}. Nice to meet you.\")\n"
      ],
      "metadata": {
        "colab": {
          "base_uri": "https://localhost:8080/"
        },
        "id": "vhFM-jOuzN1V",
        "outputId": "c1401ba0-f687-4c3a-f598-30b6e265e931"
      },
      "execution_count": 3,
      "outputs": [
        {
          "output_type": "stream",
          "name": "stdout",
          "text": [
            "name: Mary\n",
            "born in: 1998\n",
            "hometown: Ohio\n",
            "Hello, my name is Mary. I was born in 1998, and I'm from Ohio. Nice to meet you.\n"
          ]
        }
      ]
    },
    {
      "cell_type": "markdown",
      "source": [
        "## Name question (😍Good job)"
      ],
      "metadata": {
        "id": "9XH3v8p01kUl"
      }
    },
    {
      "cell_type": "code",
      "source": [
        "#Name question\n",
        "x = \"My name is \"\n",
        "y = 'Taehwi.'\n",
        "print (x+y)"
      ],
      "metadata": {
        "colab": {
          "base_uri": "https://localhost:8080/"
        },
        "id": "VVzSl3ut1nj6",
        "outputId": "bbe72250-01c8-44cb-ad08-c89cafa854ee"
      },
      "execution_count": 4,
      "outputs": [
        {
          "output_type": "stream",
          "name": "stdout",
          "text": [
            "My name is Taehwi.\n"
          ]
        }
      ]
    },
    {
      "cell_type": "markdown",
      "source": [
        "## dictionary question (😍Good job)"
      ],
      "metadata": {
        "id": "liAD5PHt2yQT"
      }
    },
    {
      "cell_type": "code",
      "source": [
        "grades = {\"Jack\": 30, \"John\": 40, \"Bob\": 50}\n",
        "print(grades[\"Bob\"])\n"
      ],
      "metadata": {
        "colab": {
          "base_uri": "https://localhost:8080/"
        },
        "id": "Nd_GpTGa20l5",
        "outputId": "813f5b1f-e09d-42e5-e0bd-9468d4387c3c"
      },
      "execution_count": 5,
      "outputs": [
        {
          "output_type": "stream",
          "name": "stdout",
          "text": [
            "50\n"
          ]
        }
      ]
    },
    {
      "cell_type": "markdown",
      "source": [
        "## Function question (😍Good job)"
      ],
      "metadata": {
        "id": "ze4pLZiq4daE"
      }
    },
    {
      "cell_type": "code",
      "source": [
        "def divide(x, y):\n",
        "    return x / y\n",
        "\n",
        "result = divide(20, 4)\n",
        "print(\"The result of division is:\", result)\n"
      ],
      "metadata": {
        "colab": {
          "base_uri": "https://localhost:8080/"
        },
        "id": "7uf300b56aMb",
        "outputId": "c825ea0e-8c86-4d5b-efb4-21e3861dcb23"
      },
      "execution_count": 6,
      "outputs": [
        {
          "output_type": "stream",
          "name": "stdout",
          "text": [
            "The result of division is: 5.0\n"
          ]
        }
      ]
    },
    {
      "cell_type": "markdown",
      "source": [
        "## GTTs question (😍 Check the code below)"
      ],
      "metadata": {
        "id": "1pvqn5FO6rvD"
      }
    },
    {
      "cell_type": "markdown",
      "source": [
        "### 😍 Package installation and importing them"
      ],
      "metadata": {
        "id": "Aug4T40PwnsA"
      }
    },
    {
      "cell_type": "code",
      "source": [
        "# First, install the gTTS library if you haven't already\n",
        "!pip install gTTS\n",
        "\n",
        "# Import the gTTS library\n",
        "from gtts import gTTS\n",
        "\n",
        "# Import IPython display module\n",
        "from IPython.display import Audio, display"
      ],
      "metadata": {
        "id": "_RCdc2x9wj8a",
        "outputId": "b54a48fd-9c54-45a4-b937-96f069b73130",
        "colab": {
          "base_uri": "https://localhost:8080/"
        }
      },
      "execution_count": 7,
      "outputs": [
        {
          "output_type": "stream",
          "name": "stdout",
          "text": [
            "Collecting gTTS\n",
            "  Downloading gTTS-2.5.1-py3-none-any.whl (29 kB)\n",
            "Requirement already satisfied: requests<3,>=2.27 in /usr/local/lib/python3.10/dist-packages (from gTTS) (2.31.0)\n",
            "Requirement already satisfied: click<8.2,>=7.1 in /usr/local/lib/python3.10/dist-packages (from gTTS) (8.1.7)\n",
            "Requirement already satisfied: charset-normalizer<4,>=2 in /usr/local/lib/python3.10/dist-packages (from requests<3,>=2.27->gTTS) (3.3.2)\n",
            "Requirement already satisfied: idna<4,>=2.5 in /usr/local/lib/python3.10/dist-packages (from requests<3,>=2.27->gTTS) (3.7)\n",
            "Requirement already satisfied: urllib3<3,>=1.21.1 in /usr/local/lib/python3.10/dist-packages (from requests<3,>=2.27->gTTS) (2.0.7)\n",
            "Requirement already satisfied: certifi>=2017.4.17 in /usr/local/lib/python3.10/dist-packages (from requests<3,>=2.27->gTTS) (2024.2.2)\n",
            "Installing collected packages: gTTS\n",
            "Successfully installed gTTS-2.5.1\n"
          ]
        }
      ]
    },
    {
      "cell_type": "markdown",
      "source": [
        "### 😍 Getting text and generate audio"
      ],
      "metadata": {
        "id": "cvK-57EGwria"
      }
    },
    {
      "cell_type": "code",
      "source": [
        "# Text to be converted to speech\n",
        "text = \"This is a test message.\"\n",
        "\n",
        "# Language in which you want to convert\n",
        "language = 'en'\n",
        "\n",
        "# Pass the text and language to the gTTS module\n",
        "speech = gTTS(text = text, lang = language, slow = False)\n",
        "\n",
        "# Save the converted audio file\n",
        "speech.save(\"output.mp3\")\n",
        "\n",
        "# Display the audio directly in the notebook\n",
        "display(Audio(\"output.mp3\", autoplay=True))"
      ],
      "metadata": {
        "id": "aMX-wZ6H6urR",
        "outputId": "2e9a513a-933d-4d88-8b41-c863e8d0df03",
        "colab": {
          "base_uri": "https://localhost:8080/",
          "height": 75
        }
      },
      "execution_count": 8,
      "outputs": [
        {
          "output_type": "display_data",
          "data": {
            "text/plain": [
              "<IPython.lib.display.Audio object>"
            ],
            "text/html": [
              "\n",
              "                <audio  controls=\"controls\" autoplay=\"autoplay\">\n",
              "                    <source src=\"data:audio/mpeg;base64,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\" type=\"audio/mpeg\" />\n",
              "                    Your browser does not support the audio element.\n",
              "                </audio>\n",
              "              "
            ]
          },
          "metadata": {}
        }
      ]
    },
    {
      "cell_type": "markdown",
      "source": [
        "### 😍 Now, use input() to get any message"
      ],
      "metadata": {
        "id": "f9Rneag9wzui"
      }
    },
    {
      "cell_type": "code",
      "source": [
        "# Text to be converted to speech\n",
        "text = input()   #😍\n",
        "\n",
        "# Language in which you want to convert\n",
        "language = 'en'\n",
        "\n",
        "# Pass the text and language to the gTTS module\n",
        "speech = gTTS(text = text, lang = language, slow = False)\n",
        "\n",
        "# Save the converted audio file\n",
        "speech.save(\"output.mp3\")\n",
        "\n",
        "# Display the audio directly in the notebook\n",
        "display(Audio(\"output.mp3\", autoplay=True))"
      ],
      "metadata": {
        "id": "90bPHgXIwzOx",
        "outputId": "571f39e2-1ee7-4b20-a6a6-afd7c67c1007",
        "colab": {
          "base_uri": "https://localhost:8080/",
          "height": 92
        }
      },
      "execution_count": 9,
      "outputs": [
        {
          "name": "stdout",
          "output_type": "stream",
          "text": [
            "You can type any sentence to generate the audio.\n"
          ]
        },
        {
          "output_type": "display_data",
          "data": {
            "text/plain": [
              "<IPython.lib.display.Audio object>"
            ],
            "text/html": [
              "\n",
              "                <audio  controls=\"controls\" autoplay=\"autoplay\">\n",
              "                    <source src=\"data:audio/mpeg;base64,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\" type=\"audio/mpeg\" />\n",
              "                    Your browser does not support the audio element.\n",
              "                </audio>\n",
              "              "
            ]
          },
          "metadata": {}
        }
      ]
    },
    {
      "cell_type": "markdown",
      "source": [
        "## countdown question\n",
        "\n",
        "😍 Think about why installation code is split from the rest of the code"
      ],
      "metadata": {
        "id": "tB_GSVWP7RQL"
      }
    },
    {
      "cell_type": "markdown",
      "source": [
        "😍 Try to replace the title and the instruction in Korean. Think about where to change. Check the places where I put 😍 :-))"
      ],
      "metadata": {
        "id": "y8mtuzpMyFRK"
      }
    },
    {
      "cell_type": "code",
      "source": [
        "!pip install gradio\n",
        "\n",
        "import gradio as gr\n",
        "from datetime import datetime\n",
        "\n",
        "def countdown(target_date):\n",
        "    try:\n",
        "        # Parse the user input date\n",
        "        date_format = \"%Y-%m-%d\"\n",
        "        future_date = datetime.strptime(target_date, date_format)\n",
        "\n",
        "        # Get the current time\n",
        "        now = datetime.now()\n",
        "\n",
        "        # Calculate the difference between the future date and the current time\n",
        "        countdown = future_date - now\n",
        "\n",
        "        # Generate the countdown message\n",
        "        if countdown.days >= 0:\n",
        "            return f\"Time until {target_date}: \\n {countdown.days} days, {countdown.seconds//3600} hours, {(countdown.seconds//60)%60} minutes.\"\n",
        "        else:\n",
        "            return \"The specified date has already passed.\"\n",
        "    except ValueError:\n",
        "        return \"Please enter the date in YYYY-MM-DD format.\"\n",
        "\n",
        "# Create the Gradio interface\n",
        "interface = gr.Interface(\n",
        "    fn=countdown,\n",
        "    inputs=gr.Text(label=\"Enter a future date (e.g., 2024-12-25)\"),\n",
        "    outputs=\"text\",\n",
        "    title=\"Date Countdown\",  # Change here 1 😍\n",
        "    description=\"Enter a date to see how many days, hours, and minutes are left until the designated date.\" # Change here 2 😍\n",
        ")\n",
        "\n",
        "interface.launch()\n"
      ],
      "metadata": {
        "colab": {
          "base_uri": "https://localhost:8080/",
          "height": 1000
        },
        "id": "Xw6DoJAp-l0V",
        "outputId": "1a3473dd-8a0e-4bd6-dc22-10c3f03905c8"
      },
      "execution_count": 11,
      "outputs": [
        {
          "output_type": "stream",
          "name": "stdout",
          "text": [
            "Requirement already satisfied: gradio in /usr/local/lib/python3.10/dist-packages (4.28.3)\n",
            "Requirement already satisfied: aiofiles<24.0,>=22.0 in /usr/local/lib/python3.10/dist-packages (from gradio) (23.2.1)\n",
            "Requirement already satisfied: altair<6.0,>=4.2.0 in /usr/local/lib/python3.10/dist-packages (from gradio) (4.2.2)\n",
            "Requirement already satisfied: fastapi in /usr/local/lib/python3.10/dist-packages (from gradio) (0.110.3)\n",
            "Requirement already satisfied: ffmpy in /usr/local/lib/python3.10/dist-packages (from gradio) (0.3.2)\n",
            "Requirement already satisfied: gradio-client==0.16.0 in /usr/local/lib/python3.10/dist-packages (from gradio) (0.16.0)\n",
            "Requirement already satisfied: httpx>=0.24.1 in /usr/local/lib/python3.10/dist-packages (from gradio) (0.27.0)\n",
            "Requirement already satisfied: huggingface-hub>=0.19.3 in /usr/local/lib/python3.10/dist-packages (from gradio) (0.20.3)\n",
            "Requirement already satisfied: importlib-resources<7.0,>=1.3 in /usr/local/lib/python3.10/dist-packages (from gradio) (6.4.0)\n",
            "Requirement already satisfied: jinja2<4.0 in /usr/local/lib/python3.10/dist-packages (from gradio) (3.1.3)\n",
            "Requirement already satisfied: markupsafe~=2.0 in /usr/local/lib/python3.10/dist-packages (from gradio) (2.1.5)\n",
            "Requirement already satisfied: matplotlib~=3.0 in /usr/local/lib/python3.10/dist-packages (from gradio) (3.7.1)\n",
            "Requirement already satisfied: numpy~=1.0 in /usr/local/lib/python3.10/dist-packages (from gradio) (1.25.2)\n",
            "Requirement already satisfied: orjson~=3.0 in /usr/local/lib/python3.10/dist-packages (from gradio) (3.10.1)\n",
            "Requirement already satisfied: packaging in /usr/local/lib/python3.10/dist-packages (from gradio) (24.0)\n",
            "Requirement already satisfied: pandas<3.0,>=1.0 in /usr/local/lib/python3.10/dist-packages (from gradio) (2.0.3)\n",
            "Requirement already satisfied: pillow<11.0,>=8.0 in /usr/local/lib/python3.10/dist-packages (from gradio) (9.4.0)\n",
            "Requirement already satisfied: pydantic>=2.0 in /usr/local/lib/python3.10/dist-packages (from gradio) (2.7.0)\n",
            "Requirement already satisfied: pydub in /usr/local/lib/python3.10/dist-packages (from gradio) (0.25.1)\n",
            "Requirement already satisfied: python-multipart>=0.0.9 in /usr/local/lib/python3.10/dist-packages (from gradio) (0.0.9)\n",
            "Requirement already satisfied: pyyaml<7.0,>=5.0 in /usr/local/lib/python3.10/dist-packages (from gradio) (6.0.1)\n",
            "Requirement already satisfied: ruff>=0.2.2 in /usr/local/lib/python3.10/dist-packages (from gradio) (0.4.2)\n",
            "Requirement already satisfied: semantic-version~=2.0 in /usr/local/lib/python3.10/dist-packages (from gradio) (2.10.0)\n",
            "Requirement already satisfied: tomlkit==0.12.0 in /usr/local/lib/python3.10/dist-packages (from gradio) (0.12.0)\n",
            "Requirement already satisfied: typer<1.0,>=0.12 in /usr/local/lib/python3.10/dist-packages (from gradio) (0.12.3)\n",
            "Requirement already satisfied: typing-extensions~=4.0 in /usr/local/lib/python3.10/dist-packages (from gradio) (4.11.0)\n",
            "Requirement already satisfied: urllib3~=2.0 in /usr/local/lib/python3.10/dist-packages (from gradio) (2.0.7)\n",
            "Requirement already satisfied: uvicorn>=0.14.0 in /usr/local/lib/python3.10/dist-packages (from gradio) (0.29.0)\n",
            "Requirement already satisfied: fsspec in /usr/local/lib/python3.10/dist-packages (from gradio-client==0.16.0->gradio) (2023.6.0)\n",
            "Requirement already satisfied: websockets<12.0,>=10.0 in /usr/local/lib/python3.10/dist-packages (from gradio-client==0.16.0->gradio) (11.0.3)\n",
            "Requirement already satisfied: entrypoints in /usr/local/lib/python3.10/dist-packages (from altair<6.0,>=4.2.0->gradio) (0.4)\n",
            "Requirement already satisfied: jsonschema>=3.0 in /usr/local/lib/python3.10/dist-packages (from altair<6.0,>=4.2.0->gradio) (4.19.2)\n",
            "Requirement already satisfied: toolz in /usr/local/lib/python3.10/dist-packages (from altair<6.0,>=4.2.0->gradio) (0.12.1)\n",
            "Requirement already satisfied: anyio in /usr/local/lib/python3.10/dist-packages (from httpx>=0.24.1->gradio) (3.7.1)\n",
            "Requirement already satisfied: certifi in /usr/local/lib/python3.10/dist-packages (from httpx>=0.24.1->gradio) (2024.2.2)\n",
            "Requirement already satisfied: httpcore==1.* in /usr/local/lib/python3.10/dist-packages (from httpx>=0.24.1->gradio) (1.0.5)\n",
            "Requirement already satisfied: idna in /usr/local/lib/python3.10/dist-packages (from httpx>=0.24.1->gradio) (3.7)\n",
            "Requirement already satisfied: sniffio in /usr/local/lib/python3.10/dist-packages (from httpx>=0.24.1->gradio) (1.3.1)\n",
            "Requirement already satisfied: h11<0.15,>=0.13 in /usr/local/lib/python3.10/dist-packages (from httpcore==1.*->httpx>=0.24.1->gradio) (0.14.0)\n",
            "Requirement already satisfied: filelock in /usr/local/lib/python3.10/dist-packages (from huggingface-hub>=0.19.3->gradio) (3.13.4)\n",
            "Requirement already satisfied: requests in /usr/local/lib/python3.10/dist-packages (from huggingface-hub>=0.19.3->gradio) (2.31.0)\n",
            "Requirement already satisfied: tqdm>=4.42.1 in /usr/local/lib/python3.10/dist-packages (from huggingface-hub>=0.19.3->gradio) (4.66.2)\n",
            "Requirement already satisfied: contourpy>=1.0.1 in /usr/local/lib/python3.10/dist-packages (from matplotlib~=3.0->gradio) (1.2.1)\n",
            "Requirement already satisfied: cycler>=0.10 in /usr/local/lib/python3.10/dist-packages (from matplotlib~=3.0->gradio) (0.12.1)\n",
            "Requirement already satisfied: fonttools>=4.22.0 in /usr/local/lib/python3.10/dist-packages (from matplotlib~=3.0->gradio) (4.51.0)\n",
            "Requirement already satisfied: kiwisolver>=1.0.1 in /usr/local/lib/python3.10/dist-packages (from matplotlib~=3.0->gradio) (1.4.5)\n",
            "Requirement already satisfied: pyparsing>=2.3.1 in /usr/local/lib/python3.10/dist-packages (from matplotlib~=3.0->gradio) (3.1.2)\n",
            "Requirement already satisfied: python-dateutil>=2.7 in /usr/local/lib/python3.10/dist-packages (from matplotlib~=3.0->gradio) (2.8.2)\n",
            "Requirement already satisfied: pytz>=2020.1 in /usr/local/lib/python3.10/dist-packages (from pandas<3.0,>=1.0->gradio) (2023.4)\n",
            "Requirement already satisfied: tzdata>=2022.1 in /usr/local/lib/python3.10/dist-packages (from pandas<3.0,>=1.0->gradio) (2024.1)\n",
            "Requirement already satisfied: annotated-types>=0.4.0 in /usr/local/lib/python3.10/dist-packages (from pydantic>=2.0->gradio) (0.6.0)\n",
            "Requirement already satisfied: pydantic-core==2.18.1 in /usr/local/lib/python3.10/dist-packages (from pydantic>=2.0->gradio) (2.18.1)\n",
            "Requirement already satisfied: click>=8.0.0 in /usr/local/lib/python3.10/dist-packages (from typer<1.0,>=0.12->gradio) (8.1.7)\n",
            "Requirement already satisfied: shellingham>=1.3.0 in /usr/local/lib/python3.10/dist-packages (from typer<1.0,>=0.12->gradio) (1.5.4)\n",
            "Requirement already satisfied: rich>=10.11.0 in /usr/local/lib/python3.10/dist-packages (from typer<1.0,>=0.12->gradio) (13.7.1)\n",
            "Requirement already satisfied: starlette<0.38.0,>=0.37.2 in /usr/local/lib/python3.10/dist-packages (from fastapi->gradio) (0.37.2)\n",
            "Requirement already satisfied: attrs>=22.2.0 in /usr/local/lib/python3.10/dist-packages (from jsonschema>=3.0->altair<6.0,>=4.2.0->gradio) (23.2.0)\n",
            "Requirement already satisfied: jsonschema-specifications>=2023.03.6 in /usr/local/lib/python3.10/dist-packages (from jsonschema>=3.0->altair<6.0,>=4.2.0->gradio) (2023.12.1)\n",
            "Requirement already satisfied: referencing>=0.28.4 in /usr/local/lib/python3.10/dist-packages (from jsonschema>=3.0->altair<6.0,>=4.2.0->gradio) (0.34.0)\n",
            "Requirement already satisfied: rpds-py>=0.7.1 in /usr/local/lib/python3.10/dist-packages (from jsonschema>=3.0->altair<6.0,>=4.2.0->gradio) (0.18.0)\n",
            "Requirement already satisfied: six>=1.5 in /usr/local/lib/python3.10/dist-packages (from python-dateutil>=2.7->matplotlib~=3.0->gradio) (1.16.0)\n",
            "Requirement already satisfied: markdown-it-py>=2.2.0 in /usr/local/lib/python3.10/dist-packages (from rich>=10.11.0->typer<1.0,>=0.12->gradio) (3.0.0)\n",
            "Requirement already satisfied: pygments<3.0.0,>=2.13.0 in /usr/local/lib/python3.10/dist-packages (from rich>=10.11.0->typer<1.0,>=0.12->gradio) (2.16.1)\n",
            "Requirement already satisfied: exceptiongroup in /usr/local/lib/python3.10/dist-packages (from anyio->httpx>=0.24.1->gradio) (1.2.1)\n",
            "Requirement already satisfied: charset-normalizer<4,>=2 in /usr/local/lib/python3.10/dist-packages (from requests->huggingface-hub>=0.19.3->gradio) (3.3.2)\n",
            "Requirement already satisfied: mdurl~=0.1 in /usr/local/lib/python3.10/dist-packages (from markdown-it-py>=2.2.0->rich>=10.11.0->typer<1.0,>=0.12->gradio) (0.1.2)\n",
            "Setting queue=True in a Colab notebook requires sharing enabled. Setting `share=True` (you can turn this off by setting `share=False` in `launch()` explicitly).\n",
            "\n",
            "Colab notebook detected. To show errors in colab notebook, set debug=True in launch()\n",
            "Running on public URL: https://f80c51a6c1d5eec8e7.gradio.live\n",
            "\n",
            "This share link expires in 72 hours. For free permanent hosting and GPU upgrades, run `gradio deploy` from Terminal to deploy to Spaces (https://huggingface.co/spaces)\n"
          ]
        },
        {
          "output_type": "display_data",
          "data": {
            "text/plain": [
              "<IPython.core.display.HTML object>"
            ],
            "text/html": [
              "<div><iframe src=\"https://f80c51a6c1d5eec8e7.gradio.live\" width=\"100%\" height=\"500\" allow=\"autoplay; camera; microphone; clipboard-read; clipboard-write;\" frameborder=\"0\" allowfullscreen></iframe></div>"
            ]
          },
          "metadata": {}
        },
        {
          "output_type": "execute_result",
          "data": {
            "text/plain": []
          },
          "metadata": {},
          "execution_count": 11
        }
      ]
    },
    {
      "cell_type": "markdown",
      "source": [
        "## Audio Question"
      ],
      "metadata": {
        "id": "X9Qy0C24BV6Q"
      }
    },
    {
      "cell_type": "code",
      "source": [
        "!pip install gradio gtts"
      ],
      "metadata": {
        "id": "NAH-eHJvBZ3W"
      },
      "execution_count": null,
      "outputs": []
    },
    {
      "cell_type": "code",
      "source": [
        "import gradio as gr\n",
        "from gtts import gTTS\n",
        "import os\n",
        "\n",
        "def text_to_speech(text, language):\n",
        "    lang_code = 'en' if language == \"English\" else 'ko'\n",
        "    tts = gTTS(text=text, lang=lang_code, slow=False)\n",
        "    tts.save(\"output.mp3\")\n",
        "    return \"output.mp3\"\n",
        "\n",
        "interface = gr.Interface(\n",
        "    fn=text_to_speech,\n",
        "    inputs=[\n",
        "        gr.Textbox(lines=3, label=\"Enter text\"),\n",
        "        gr.Radio(choices=[\"English\", \"Korean\"], label=\"Select language\")\n",
        "    ],\n",
        "    outputs=gr.Audio(type=\"filepath\", label=\"Audio\"),\n",
        "    title=\"Text-to-Speech\",\n",
        "    description=\"Type in some text, select a language, and generate audio.\",\n",
        ")\n",
        "\n",
        "interface.launch()"
      ],
      "metadata": {
        "colab": {
          "base_uri": "https://localhost:8080/",
          "height": 645
        },
        "id": "nPCOjvUbCDI_",
        "outputId": "d7d8b08f-e8b8-48fd-c019-4b931eb063ca"
      },
      "execution_count": 12,
      "outputs": [
        {
          "output_type": "stream",
          "name": "stdout",
          "text": [
            "Setting queue=True in a Colab notebook requires sharing enabled. Setting `share=True` (you can turn this off by setting `share=False` in `launch()` explicitly).\n",
            "\n",
            "Colab notebook detected. To show errors in colab notebook, set debug=True in launch()\n",
            "Running on public URL: https://d92af545f2d0777956.gradio.live\n",
            "\n",
            "This share link expires in 72 hours. For free permanent hosting and GPU upgrades, run `gradio deploy` from Terminal to deploy to Spaces (https://huggingface.co/spaces)\n"
          ]
        },
        {
          "output_type": "display_data",
          "data": {
            "text/plain": [
              "<IPython.core.display.HTML object>"
            ],
            "text/html": [
              "<div><iframe src=\"https://d92af545f2d0777956.gradio.live\" width=\"100%\" height=\"500\" allow=\"autoplay; camera; microphone; clipboard-read; clipboard-write;\" frameborder=\"0\" allowfullscreen></iframe></div>"
            ]
          },
          "metadata": {}
        },
        {
          "output_type": "execute_result",
          "data": {
            "text/plain": []
          },
          "metadata": {},
          "execution_count": 12
        }
      ]
    },
    {
      "cell_type": "markdown",
      "source": [
        "---\n",
        "The end (😍 Good job!)"
      ],
      "metadata": {
        "id": "wcXFx57cy0YE"
      }
    }
  ]
}